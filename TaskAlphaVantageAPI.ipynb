{
 "cells": [
  {
   "cell_type": "code",
   "execution_count": 1,
   "id": "d9b13b25",
   "metadata": {},
   "outputs": [],
   "source": [
    "import pandas as pd\n",
    "from alpha_vantage.timeseries import TimeSeries\n",
    "from alpha_vantage.techindicators import TechIndicators\n",
    "\n",
    "    "
   ]
  },
  {
   "cell_type": "code",
   "execution_count": 2,
   "id": "ea0505ee",
   "metadata": {},
   "outputs": [],
   "source": [
    "key='WUEU9JDDON8Q8UW7'  "
   ]
  },
  {
   "cell_type": "code",
   "execution_count": 3,
   "id": "fe026d63",
   "metadata": {},
   "outputs": [],
   "source": [
    "#ts=TimeSeries(key,output_format='pandas')\n",
    "#data,meta=ts.get_intraday('TSLA',interval='1min',outputsize='full')"
   ]
  },
  {
   "cell_type": "code",
   "execution_count": 4,
   "id": "59ee4435",
   "metadata": {},
   "outputs": [],
   "source": [
    "ta=TechIndicators(key,output_format='pandas')\n",
    "data1,meta=ta.get_sma('GOOG',interval='daily',time_period=200,series_type='close')"
   ]
  },
  {
   "cell_type": "code",
   "execution_count": 5,
   "id": "dacff84d",
   "metadata": {
    "scrolled": true
   },
   "outputs": [
    {
     "data": {
      "text/plain": [
       "{'1: Symbol': 'GOOG',\n",
       " '2: Indicator': 'Simple Moving Average (SMA)',\n",
       " '3: Last Refreshed': '2021-07-08 16:00:01',\n",
       " '4: Interval': 'daily',\n",
       " '5: Time Period': 200,\n",
       " '6: Series Type': 'close',\n",
       " '7: Time Zone': 'US/Eastern'}"
      ]
     },
     "execution_count": 5,
     "metadata": {},
     "output_type": "execute_result"
    }
   ],
   "source": [
    "meta"
   ]
  },
  {
   "cell_type": "code",
   "execution_count": 6,
   "id": "16efdfc4",
   "metadata": {},
   "outputs": [
    {
     "data": {
      "text/plain": [
       "<bound method DataFrame.info of                            SMA\n",
       "date                          \n",
       "2015-01-09 00:00:00   552.7623\n",
       "2015-01-12 00:00:00   552.4327\n",
       "2015-01-13 00:00:00   552.1137\n",
       "2015-01-14 00:00:00   551.8332\n",
       "2015-01-15 00:00:00   551.5063\n",
       "...                        ...\n",
       "2021-07-01 00:00:00  1988.9170\n",
       "2021-07-02 00:00:00  1994.1844\n",
       "2021-07-06 00:00:00  1999.6839\n",
       "2021-07-07 00:00:00  2005.3917\n",
       "2021-07-08 16:00:01  2011.1536\n",
       "\n",
       "[1635 rows x 1 columns]>"
      ]
     },
     "execution_count": 6,
     "metadata": {},
     "output_type": "execute_result"
    }
   ],
   "source": [
    "data1.info"
   ]
  },
  {
   "cell_type": "code",
   "execution_count": 7,
   "id": "81a3dddb",
   "metadata": {
    "scrolled": true
   },
   "outputs": [
    {
     "data": {
      "text/html": [
       "<div>\n",
       "<style scoped>\n",
       "    .dataframe tbody tr th:only-of-type {\n",
       "        vertical-align: middle;\n",
       "    }\n",
       "\n",
       "    .dataframe tbody tr th {\n",
       "        vertical-align: top;\n",
       "    }\n",
       "\n",
       "    .dataframe thead th {\n",
       "        text-align: right;\n",
       "    }\n",
       "</style>\n",
       "<table border=\"1\" class=\"dataframe\">\n",
       "  <thead>\n",
       "    <tr style=\"text-align: right;\">\n",
       "      <th></th>\n",
       "      <th>SMA</th>\n",
       "    </tr>\n",
       "    <tr>\n",
       "      <th>date</th>\n",
       "      <th></th>\n",
       "    </tr>\n",
       "  </thead>\n",
       "  <tbody>\n",
       "    <tr>\n",
       "      <th>2021-07-01 00:00:00</th>\n",
       "      <td>1988.9170</td>\n",
       "    </tr>\n",
       "    <tr>\n",
       "      <th>2021-07-02 00:00:00</th>\n",
       "      <td>1994.1844</td>\n",
       "    </tr>\n",
       "    <tr>\n",
       "      <th>2021-07-06 00:00:00</th>\n",
       "      <td>1999.6839</td>\n",
       "    </tr>\n",
       "    <tr>\n",
       "      <th>2021-07-07 00:00:00</th>\n",
       "      <td>2005.3917</td>\n",
       "    </tr>\n",
       "    <tr>\n",
       "      <th>2021-07-08 16:00:01</th>\n",
       "      <td>2011.1536</td>\n",
       "    </tr>\n",
       "  </tbody>\n",
       "</table>\n",
       "</div>"
      ],
      "text/plain": [
       "                           SMA\n",
       "date                          \n",
       "2021-07-01 00:00:00  1988.9170\n",
       "2021-07-02 00:00:00  1994.1844\n",
       "2021-07-06 00:00:00  1999.6839\n",
       "2021-07-07 00:00:00  2005.3917\n",
       "2021-07-08 16:00:01  2011.1536"
      ]
     },
     "execution_count": 7,
     "metadata": {},
     "output_type": "execute_result"
    }
   ],
   "source": [
    "data1.tail()"
   ]
  },
  {
   "cell_type": "code",
   "execution_count": 8,
   "id": "b5e1d051",
   "metadata": {
    "scrolled": true
   },
   "outputs": [],
   "source": [
    "import pyarrow as pa           #can also use fastparquet engine \n",
    "import pyarrow.parquet as pq\n"
   ]
  },
  {
   "cell_type": "code",
   "execution_count": 9,
   "id": "eaa8d740",
   "metadata": {},
   "outputs": [],
   "source": [
    "#Saving and Compressing the data.\n",
    "table=pa.Table.from_pandas(data1)    \n",
    "pq.write_table(table,'googlesma.parquet',compression='SNAPPY') \n",
    "\n"
   ]
  },
  {
   "cell_type": "code",
   "execution_count": 10,
   "id": "6ac5b4ab",
   "metadata": {},
   "outputs": [],
   "source": [
    "import requests\n",
    "import pandas as pd\n",
    "import sys\n",
    "from pandas.io.json import json_normalize\n",
    "from datetime import datetime\n",
    "import gc\n",
    "# replace the \"demo\" apikey below with your own key from https://www.alphavantage.co/support/#api-key\n",
    "url = 'https://www.alphavantage.co/query?function=SMA&symbol=GOOG&interval=daily&time_period=200&series_type=close&apikey=key'\n",
    "\n",
    "#data = r.json()\n",
    "\n"
   ]
  },
  {
   "cell_type": "code",
   "execution_count": 11,
   "id": "17f9703e",
   "metadata": {},
   "outputs": [],
   "source": [
    "#Handling Request/API errors\n",
    "def request_data(url):\n",
    "    r = requests.get(url)      # Can also write Try/Except to handle errors \n",
    "    if r.status_code!=200:\n",
    "        print(\"Issue in accessing the data error code 53\")\n",
    "        gc.collect()\n",
    "        sys.exit()\n",
    "    else:\n",
    "        print(\"Status updates new data\")\n",
    "        pass\n",
    "    return r\n",
    "    "
   ]
  },
  {
   "cell_type": "code",
   "execution_count": 31,
   "id": "b6c68772",
   "metadata": {},
   "outputs": [],
   "source": [
    "   \n",
    "try:\n",
    "    r=requests.get(url) \n",
    "    r.raise_for_status()\n",
    "except requests.exceptions.HTTPError:\n",
    "    print(\"Too many requests \")\n",
    "    "
   ]
  },
  {
   "cell_type": "code",
   "execution_count": 13,
   "id": "45227c9e",
   "metadata": {},
   "outputs": [
    {
     "data": {
      "text/plain": [
       "'\"import logging\\nimport csv\\nwith open(\\'log.csv\\', mode=\\'w\\') as log:                                     \\n    output = csv.writer(log)\\n    output.writerow([\\'process_name\\',\\'parameter\\',\\'execution_time\\',\\'status\\'])   # writing row names \\n\\n\\ndef getlogger():\\n    # logger\\n    logger = logging.getLogger()\\n    logger.setLevel(logging.INFO)\\n    ch = logging.FileHandler(\\'log.csv\\')\\n    ch.setLevel(logging.DEBUG)\\n    \\n    # create formatter\\n    formatter = logging.Formatter(\\'%(asctime)s %(levelname)s%(name)s%(processName)s%(relativeCreated)d| %(message)s\\')\\n    # add formatter to ch\\n    ch.setFormatter(formatter)\\n    # add ch to logger\\n    logger.addHandler(ch)\\n    return logger\\nlog_obj =getlogger()\\nlog_obj.critical(\"recheck\")\\nlog_obj.error(\"ERR\".format())\\nlog_obj.warning(\"WARN\".format())\\nlog_obj.debug(\"debug\".format()'"
      ]
     },
     "execution_count": 13,
     "metadata": {},
     "output_type": "execute_result"
    }
   ],
   "source": [
    "\n",
    "\"\"\"\"import logging\n",
    "import csv\n",
    "with open('log.csv', mode='w') as log:                                     \n",
    "    output = csv.writer(log)\n",
    "    output.writerow(['process_name','parameter','execution_time','status'])   # writing row names \n",
    "\n",
    "\n",
    "def getlogger():\n",
    "    # logger\n",
    "    logger = logging.getLogger()\n",
    "    logger.setLevel(logging.INFO)\n",
    "    ch = logging.FileHandler('log.csv')\n",
    "    ch.setLevel(logging.DEBUG)\n",
    "    \n",
    "    # create formatter\n",
    "    formatter = logging.Formatter('%(asctime)s %(levelname)s%(name)s%(processName)s%(relativeCreated)d| %(message)s')\n",
    "    # add formatter to ch\n",
    "    ch.setFormatter(formatter)\n",
    "    # add ch to logger\n",
    "    logger.addHandler(ch)\n",
    "    return logger\n",
    "log_obj =getlogger()\n",
    "log_obj.critical(\"recheck\")\n",
    "log_obj.error(\"ERR\".format())\n",
    "log_obj.warning(\"WARN\".format())\n",
    "log_obj.debug(\"debug\".format()\"\"\"\n",
    "\n",
    "\n",
    "\n"
   ]
  },
  {
   "cell_type": "code",
   "execution_count": 19,
   "id": "dd3920ba",
   "metadata": {},
   "outputs": [],
   "source": [
    "import sys\n",
    "import logging\n",
    "import logging.config\n",
    "    # ================== Logger ================================\n",
    "def Logger(file_name):\n",
    "        formatter = logging.Formatter(fmt='%(asctime)s %(levelname)s%(name)s%(processName)s%(relativeCreated)d | %(msecs)d milliseconds|status:%(message)s',\n",
    "                                      datefmt='%Y/%m/%d %H:%M:%S') # %I:%M:%S %p AM|PM format\n",
    "        logging.basicConfig(filename = '%slog1.csv' %(file_name),format= '%(asctime)s %(levelname)s%(name)s%(processName)s%(relativeCreated)d | %(msecs)d milliseconds|status:%(message)s',\n",
    "                                      datefmt='%Y/%m/%d %H:%M:%S', filemode = 'w', level = logging.INFO)\n",
    "        log_obj = logging.getLogger()\n",
    "        log_obj.setLevel(logging.DEBUG)\n",
    "        # log_obj = logging.getLogger().addHandler(logging.StreamHandler())\n",
    "\n",
    "        # console printer\n",
    "        stream_handler = logging.StreamHandler(stream=sys.stdout) #stream=sys.stdout is similar to normal print\n",
    "        stream_handler.setFormatter(formatter)\n",
    "        logging.getLogger().addHandler(stream_handler)\n",
    "\n",
    "        log_obj.info(\"Logger object created successfully..\")\n",
    "        return log_obj\n",
    "    # =======================================================\n",
    "\n",
    "\n",
    "\n"
   ]
  },
  {
   "cell_type": "code",
   "execution_count": 20,
   "id": "16fdf04f",
   "metadata": {},
   "outputs": [
    {
     "name": "stdout",
     "output_type": "stream",
     "text": [
      "2021/07/08 22:43:58 INFOrootMainProcess419879 | 25 milliseconds|status:Logger object created successfully..\n",
      "2021/07/08 22:43:58 INFOrootMainProcess419881 | 27 milliseconds|status:yes done succesfully\n",
      "2021/07/08 22:43:58 CRITICALrootMainProcess419884 | 30 milliseconds|status:CRIC\n",
      "2021/07/08 22:43:58 ERRORrootMainProcess419886 | 32 milliseconds|status:ERR\n",
      "2021/07/08 22:43:58 WARNINGrootMainProcess419888 | 34 milliseconds|status:WARN\n",
      "2021/07/08 22:43:58 DEBUGrootMainProcess419891 | 37 milliseconds|status:debug\n"
     ]
    }
   ],
   "source": [
    "# calling **Logger** function\n",
    "file_name = 'log1.csv'\n",
    "log_obj =Logger(file_name)\n",
    "log_obj.info(\"yes done succesfully\".format( ))\n",
    "log_obj.critical(\"CRIC\".format())\n",
    "log_obj.error(\"ERR\".format())\n",
    "log_obj.warning(\"WARN\".format())\n",
    "log_obj.debug(\"debug\".format())\n",
    "\n",
    "\n",
    "log_obj.handlers.clear()"
   ]
  },
  {
   "cell_type": "code",
   "execution_count": 21,
   "id": "46b5270a",
   "metadata": {},
   "outputs": [
    {
     "data": {
      "text/plain": [
       "\"import logging\\nimport sys\\n\\nlogger = logging.getLogger()\\nlogger.setLevel(logging.INFO)\\nformatter = logging.Formatter('%(asctime)s %(levelname)s%(name)s%(processName)s%(relativeCreated)d | %(msecs)d milliseconds|status:%(message)s')\\n\\nfile_handler = logging.FileHandler('log2.csv')\\nfile_handler.setLevel(logging.DEBUG)\\nfile_handler.setFormatter(formatter)\\n\\nscreen_handler = logging.StreamHandler(stream=sys.stdout) #stream=sys.stdout is similar to normal print\\nscreen_handler.setFormatter(formatter)\\nlogging.getLogger().addHandler(screen_handler)\\n\\n\\nlogger.addHandler(file_handler)\\nlogger.info('This is a log message!')\\nlogger.error('This is an error message.')\\nlogger.warning('Watch out!') \\nlogger.critical('CRIC')\\nlogger.debug('debug')\""
      ]
     },
     "execution_count": 21,
     "metadata": {},
     "output_type": "execute_result"
    }
   ],
   "source": [
    "##log record without using function\n",
    "\"\"\"import logging\n",
    "import sys\n",
    "\n",
    "logger = logging.getLogger()\n",
    "logger.setLevel(logging.INFO)\n",
    "formatter = logging.Formatter('%(asctime)s %(levelname)s%(name)s%(processName)s%(relativeCreated)d | %(msecs)d milliseconds|status:%(message)s')\n",
    "\n",
    "file_handler = logging.FileHandler('log2.csv')\n",
    "file_handler.setLevel(logging.DEBUG)\n",
    "file_handler.setFormatter(formatter)\n",
    "\n",
    "screen_handler = logging.StreamHandler(stream=sys.stdout) #stream=sys.stdout is similar to normal print\n",
    "screen_handler.setFormatter(formatter)\n",
    "logging.getLogger().addHandler(screen_handler)\n",
    "\n",
    "\n",
    "logger.addHandler(file_handler)\n",
    "logger.info('This is a log message!')\n",
    "logger.error('This is an error message.')\n",
    "logger.warning('Watch out!') \n",
    "logger.critical('CRIC')\n",
    "logger.debug('debug')\"\"\"\n"
   ]
  },
  {
   "cell_type": "code",
   "execution_count": 22,
   "id": "549f7ae5",
   "metadata": {},
   "outputs": [],
   "source": [
    "from alpha_vantage.timeseries import TimeSeries\n",
    "from alpha_vantage.techindicators import TechIndicators\n",
    "from alpha_vantage.sectorperformance import SectorPerformances\n",
    "from alpha_vantage.cryptocurrencies import CryptoCurrencies\n",
    "import os"
   ]
  },
  {
   "cell_type": "code",
   "execution_count": 23,
   "id": "57b7acb7",
   "metadata": {},
   "outputs": [
    {
     "data": {
      "text/html": [
       "<div>\n",
       "<style scoped>\n",
       "    .dataframe tbody tr th:only-of-type {\n",
       "        vertical-align: middle;\n",
       "    }\n",
       "\n",
       "    .dataframe tbody tr th {\n",
       "        vertical-align: top;\n",
       "    }\n",
       "\n",
       "    .dataframe thead th {\n",
       "        text-align: right;\n",
       "    }\n",
       "</style>\n",
       "<table border=\"1\" class=\"dataframe\">\n",
       "  <thead>\n",
       "    <tr style=\"text-align: right;\">\n",
       "      <th></th>\n",
       "      <th>1. open</th>\n",
       "      <th>2. high</th>\n",
       "      <th>3. low</th>\n",
       "      <th>4. close</th>\n",
       "      <th>5. volume</th>\n",
       "    </tr>\n",
       "  </thead>\n",
       "  <tbody>\n",
       "    <tr>\n",
       "      <th>count</th>\n",
       "      <td>4906.000000</td>\n",
       "      <td>4906.000000</td>\n",
       "      <td>4906.000000</td>\n",
       "      <td>4906.000000</td>\n",
       "      <td>4.906000e+03</td>\n",
       "    </tr>\n",
       "    <tr>\n",
       "      <th>mean</th>\n",
       "      <td>271.791572</td>\n",
       "      <td>271.843574</td>\n",
       "      <td>271.740453</td>\n",
       "      <td>271.793738</td>\n",
       "      <td>3.521960e+04</td>\n",
       "    </tr>\n",
       "    <tr>\n",
       "      <th>std</th>\n",
       "      <td>4.736670</td>\n",
       "      <td>4.741409</td>\n",
       "      <td>4.732109</td>\n",
       "      <td>4.737122</td>\n",
       "      <td>6.406147e+04</td>\n",
       "    </tr>\n",
       "    <tr>\n",
       "      <th>min</th>\n",
       "      <td>264.765000</td>\n",
       "      <td>264.785000</td>\n",
       "      <td>264.760000</td>\n",
       "      <td>264.768400</td>\n",
       "      <td>1.000000e+02</td>\n",
       "    </tr>\n",
       "    <tr>\n",
       "      <th>25%</th>\n",
       "      <td>267.825000</td>\n",
       "      <td>267.878750</td>\n",
       "      <td>267.786250</td>\n",
       "      <td>267.830000</td>\n",
       "      <td>2.963250e+03</td>\n",
       "    </tr>\n",
       "    <tr>\n",
       "      <th>50%</th>\n",
       "      <td>270.617500</td>\n",
       "      <td>270.680000</td>\n",
       "      <td>270.570000</td>\n",
       "      <td>270.620000</td>\n",
       "      <td>2.447800e+04</td>\n",
       "    </tr>\n",
       "    <tr>\n",
       "      <th>75%</th>\n",
       "      <td>276.688825</td>\n",
       "      <td>276.740000</td>\n",
       "      <td>276.638750</td>\n",
       "      <td>276.690000</td>\n",
       "      <td>4.097550e+04</td>\n",
       "    </tr>\n",
       "    <tr>\n",
       "      <th>max</th>\n",
       "      <td>280.670000</td>\n",
       "      <td>280.694500</td>\n",
       "      <td>280.570000</td>\n",
       "      <td>280.660000</td>\n",
       "      <td>1.642878e+06</td>\n",
       "    </tr>\n",
       "  </tbody>\n",
       "</table>\n",
       "</div>"
      ],
      "text/plain": [
       "           1. open      2. high       3. low     4. close     5. volume\n",
       "count  4906.000000  4906.000000  4906.000000  4906.000000  4.906000e+03\n",
       "mean    271.791572   271.843574   271.740453   271.793738  3.521960e+04\n",
       "std       4.736670     4.741409     4.732109     4.737122  6.406147e+04\n",
       "min     264.765000   264.785000   264.760000   264.768400  1.000000e+02\n",
       "25%     267.825000   267.878750   267.786250   267.830000  2.963250e+03\n",
       "50%     270.617500   270.680000   270.570000   270.620000  2.447800e+04\n",
       "75%     276.688825   276.740000   276.638750   276.690000  4.097550e+04\n",
       "max     280.670000   280.694500   280.570000   280.660000  1.642878e+06"
      ]
     },
     "execution_count": 23,
     "metadata": {},
     "output_type": "execute_result"
    }
   ],
   "source": [
    "ts = TimeSeries(key=key, output_format='pandas')\n",
    "data, meta_data = ts.get_intraday(symbol='MSFT',interval='1min',outputsize='full')\n",
    "# We can describe it\n",
    "data.describe()\n"
   ]
  },
  {
   "cell_type": "code",
   "execution_count": 24,
   "id": "3bcb48e8",
   "metadata": {},
   "outputs": [
    {
     "data": {
      "text/plain": [
       "{'1. Information': 'Intraday (1min) open, high, low, close prices and volume',\n",
       " '2. Symbol': 'MSFT',\n",
       " '3. Last Refreshed': '2021-07-07 20:00:00',\n",
       " '4. Interval': '1min',\n",
       " '5. Output Size': 'Full size',\n",
       " '6. Time Zone': 'US/Eastern'}"
      ]
     },
     "execution_count": 24,
     "metadata": {},
     "output_type": "execute_result"
    }
   ],
   "source": [
    "meta_data"
   ]
  },
  {
   "cell_type": "code",
   "execution_count": 25,
   "id": "84bfdab8",
   "metadata": {},
   "outputs": [
    {
     "name": "stdout",
     "output_type": "stream",
     "text": [
      "<_csv.reader object at 0x0000002B28075AC0>\n"
     ]
    }
   ],
   "source": [
    "ts = TimeSeries(key=key, output_format='csv')\n",
    "data_csv,_ = ts.get_intraday(symbol='MSFT',interval='1min', outputsize='compact')\n",
    "print(data_csv)"
   ]
  },
  {
   "cell_type": "code",
   "execution_count": 26,
   "id": "b745f882",
   "metadata": {},
   "outputs": [],
   "source": [
    "import json\n",
    "import urllib.request\n",
    "import datetime\n",
    "import requests\n",
    "\n",
    "#mainURL that will be appended to return our requests\n",
    "mainURL = \"https://www.alphavantage.co/query?\"\n",
    "#API key that will be needed to authenticate\n",
    "myKey = key\n",
    "\n",
    "interval=\"interval=daily\"\n",
    "time=\"time_period=200\"\n",
    "seriestype=\"series_type=close\"\n",
    "datatype=\"datatype=csv\"\n",
    "\n",
    "#For daily activity\n",
    "'''\n",
    "REQUEST NEEDS:\n",
    "function: will ALWAYS be equal to 'SMA Technical Indicator' for daily\n",
    "symbol: user defined stock ticker\n",
    "outputsize: default is 'compact' which only returns 100 data points, \n",
    "otherwise\n",
    "we can define it as 'full' to get up to 20 years worth\n",
    "datatype: default is 'json', but we can also request 'csv'\n",
    "'''\n",
    "#loads a json object of based on what you input in dailyData(SYMBOL)\n",
    "requestTypeURL = \"function=SMA\"\n",
    "def dailyData(symbol, requestType=requestTypeURL,interval_daily=interval,time_period=time,series_type=seriestype,apiKey=myKey,data_type=datatype):\n",
    "    symbolURL = \"symbol=\" + str(symbol)\n",
    "    apiURL = \"apikey=\" + myKey\n",
    "\n",
    "    url= mainURL + requestType + '&' + symbolURL + '&' + interval_daily+'&' +time_period  +'&' + series_type+'&'+apiURL+'&'+data_type\n",
    "    #r = requests.get(url)\n",
    "    #text = r.iter_lines()\n",
    "    #reader = csv.reader(text, delimiter=',')\n",
    "    #return reader\n",
    "    with urllib.request.urlopen(url) as req:\n",
    "        data =pd.read_csv(req)\n",
    "        data.to_csv('vijay.csv')\n",
    "    return data\n"
   ]
  },
  {
   "cell_type": "code",
   "execution_count": 33,
   "id": "7a404088",
   "metadata": {},
   "outputs": [
    {
     "name": "stdout",
     "output_type": "stream",
     "text": [
      "                     time       SMA\n",
      "0     2021-07-08 16:00:01  248.7158\n",
      "1              2021-07-07  249.0857\n",
      "2              2021-07-06  249.4077\n",
      "3              2021-07-02  249.7283\n",
      "4              2021-07-01  250.0303\n",
      "...                   ...       ...\n",
      "1508           2015-07-13   92.4420\n",
      "1509           2015-07-10   92.4856\n",
      "1510           2015-07-09   92.5199\n",
      "1511           2015-07-08   92.5742\n",
      "1512           2015-07-07   92.6539\n",
      "\n",
      "[1513 rows x 2 columns]                      time       SMA\n",
      "0     2021-07-08 16:00:01  575.3389\n",
      "1              2021-07-07  573.8596\n",
      "2              2021-07-06  572.2211\n",
      "3              2021-07-02  570.5719\n",
      "4              2021-07-01  568.9753\n",
      "...                   ...       ...\n",
      "5252           2000-08-21    6.4207\n",
      "5253           2000-08-18    6.3720\n",
      "5254           2000-08-17    6.3236\n",
      "5255           2000-08-16    6.2762\n",
      "5256           2000-08-15    6.2293\n",
      "\n",
      "[5257 rows x 2 columns]                      time       SMA\n",
      "0     2021-07-08 16:00:01  232.9934\n",
      "1              2021-07-07  232.6117\n",
      "2              2021-07-06  232.2068\n",
      "3              2021-07-02  231.8257\n",
      "4              2021-07-01  231.4553\n",
      "...                   ...       ...\n",
      "5252           2000-08-21   27.6813\n",
      "5253           2000-08-18   27.7148\n",
      "5254           2000-08-17   27.7482\n",
      "5255           2000-08-16   27.7815\n",
      "5256           2000-08-15   27.8154\n",
      "\n",
      "[5257 rows x 2 columns]                      time        SMA\n",
      "0     2021-07-08 16:00:01  2011.1536\n",
      "1              2021-07-07  2005.3917\n",
      "2              2021-07-06  1999.6839\n",
      "3              2021-07-02  1994.1844\n",
      "4              2021-07-01  1988.9170\n",
      "...                   ...        ...\n",
      "1630           2015-01-15   551.5063\n",
      "1631           2015-01-14   551.8332\n",
      "1632           2015-01-13   552.1137\n",
      "1633           2015-01-12   552.4327\n",
      "1634           2015-01-09   552.7623\n",
      "\n",
      "[1635 rows x 2 columns]                      time       SMA\n",
      "0     2021-07-08 16:00:01  125.6259\n",
      "1              2021-07-07  125.4574\n",
      "2              2021-07-06  125.2661\n",
      "3              2021-07-02  125.1050\n",
      "4              2021-07-01  124.9631\n",
      "...                   ...       ...\n",
      "5252           2000-08-21    0.8219\n",
      "5253           2000-08-18    0.8212\n",
      "5254           2000-08-17    0.8205\n",
      "5255           2000-08-16    0.8196\n",
      "5256           2000-08-15    0.8189\n",
      "\n",
      "[5257 rows x 2 columns]                      time       SMA\n",
      "0     2021-07-08 16:00:01  629.6067\n",
      "1              2021-07-07  628.5896\n",
      "2              2021-07-06  627.5771\n",
      "3              2021-07-02  626.3963\n",
      "4              2021-07-01  625.2106\n",
      "...                   ...       ...\n",
      "2572           2011-04-18    4.7570\n",
      "2573           2011-04-15    4.7512\n",
      "2574           2011-04-14    4.7476\n",
      "2575           2011-04-13    4.7463\n",
      "2576           2011-04-12    4.7452\n",
      "\n",
      "[2577 rows x 2 columns]\n"
     ]
    }
   ],
   "source": [
    "#='BABA','NVDA','MSFT','NFLX','L&TFH','AAPL','GOOGL','GOOG','AMZN','FB','TSLA','SPY','OPL','PGE','ALE','PGN','PZU','ALE','CPS','KER','ASHOKLEY','LVC','TPE','CIE','KRU','MRC'\n",
    "a=dailyData('BABA')\n",
    "b=dailyData('NVDA')\n",
    "c=dailyData('MSFT')\n",
    "d=dailyData('GOOG')\n",
    "e=dailyData('AAPL')\n",
    "f=dailyData('TSLA')\n",
    "print(a,b,c,d,e,f)\n",
    "\n"
   ]
  },
  {
   "cell_type": "code",
   "execution_count": 28,
   "id": "b06f30ef",
   "metadata": {},
   "outputs": [],
   "source": [
    "import csv\n",
    "import urllib.request\n",
    "tickers = ['A', 'AAP', 'ABBV', 'ABC', 'ABMD', 'ABT', 'ACN', 'ADM', 'AEE', 'AEP', 'AES', 'AFL', 'AIG', 'AIV', 'AIZ', 'AJG', 'AKAM', 'ALB', 'ALK', 'ALL', 'ALLE', 'AMCR', 'AME', 'AMP','GOOG','FB','BABA','FV']\n",
    "def getdata(tickers):\n",
    "    for i in range(1,26):\n",
    "        url = 'https://www.alphavantage.co/query?function=SMA&symbol='+tickers[i]+'&interval=dailys&time_period=200&series_type=close&apikey=key&datatype=csv'\n",
    "       # response = urllib.request.urlopen(url)\n",
    "       # cr = csv.reader(response)\n",
    "       # print(response)\n",
    "        r = requests.get(url)\n",
    "        text = r.iter_lines()\n",
    "        url_content=r.content\n",
    "        csv_file=open('vijay1.csv','wb')\n",
    "        csv_file.write(url_content)\n",
    "        csv_file.close()\n",
    "        #reader = csv.reader(text, delimiter=',')\n",
    "        print(csv_file)\n",
    "    "
   ]
  },
  {
   "cell_type": "code",
   "execution_count": 29,
   "id": "feb2d62d",
   "metadata": {},
   "outputs": [
    {
     "name": "stdout",
     "output_type": "stream",
     "text": [
      "<_io.BufferedWriter name='vijay1.csv'>\n",
      "<_io.BufferedWriter name='vijay1.csv'>\n",
      "<_io.BufferedWriter name='vijay1.csv'>\n",
      "<_io.BufferedWriter name='vijay1.csv'>\n",
      "<_io.BufferedWriter name='vijay1.csv'>\n",
      "<_io.BufferedWriter name='vijay1.csv'>\n",
      "<_io.BufferedWriter name='vijay1.csv'>\n",
      "<_io.BufferedWriter name='vijay1.csv'>\n",
      "<_io.BufferedWriter name='vijay1.csv'>\n",
      "<_io.BufferedWriter name='vijay1.csv'>\n",
      "<_io.BufferedWriter name='vijay1.csv'>\n",
      "<_io.BufferedWriter name='vijay1.csv'>\n",
      "<_io.BufferedWriter name='vijay1.csv'>\n",
      "<_io.BufferedWriter name='vijay1.csv'>\n",
      "<_io.BufferedWriter name='vijay1.csv'>\n",
      "<_io.BufferedWriter name='vijay1.csv'>\n",
      "<_io.BufferedWriter name='vijay1.csv'>\n",
      "<_io.BufferedWriter name='vijay1.csv'>\n",
      "<_io.BufferedWriter name='vijay1.csv'>\n",
      "<_io.BufferedWriter name='vijay1.csv'>\n",
      "<_io.BufferedWriter name='vijay1.csv'>\n",
      "<_io.BufferedWriter name='vijay1.csv'>\n",
      "<_io.BufferedWriter name='vijay1.csv'>\n",
      "<_io.BufferedWriter name='vijay1.csv'>\n",
      "<_io.BufferedWriter name='vijay1.csv'>\n",
      "None\n"
     ]
    }
   ],
   "source": [
    "a=getdata(tickers)\n",
    "print(a)"
   ]
  },
  {
   "cell_type": "code",
   "execution_count": null,
   "id": "1a830daa",
   "metadata": {},
   "outputs": [],
   "source": []
  },
  {
   "cell_type": "code",
   "execution_count": null,
   "id": "8cf0bd97",
   "metadata": {},
   "outputs": [],
   "source": []
  }
 ],
 "metadata": {
  "kernelspec": {
   "display_name": "Python 3",
   "language": "python",
   "name": "python3"
  },
  "language_info": {
   "codemirror_mode": {
    "name": "ipython",
    "version": 3
   },
   "file_extension": ".py",
   "mimetype": "text/x-python",
   "name": "python",
   "nbconvert_exporter": "python",
   "pygments_lexer": "ipython3",
   "version": "3.8.8"
  }
 },
 "nbformat": 4,
 "nbformat_minor": 5
}
